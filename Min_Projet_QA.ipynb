{
 "cells": [
  {
   "cell_type": "markdown",
   "id": "3169f996",
   "metadata": {},
   "source": [
    "#### Nom : Daniel Joaquim\n",
    "#### Prenóm : Paulino\n",
    "#### Filiere : IDDL\n",
    "\n",
    "# Subjet :  Question Answering "
   ]
  },
  {
   "cell_type": "markdown",
   "id": "418e8474",
   "metadata": {},
   "source": [
    "\n",
    "## Étape 1 - Installation des bibliothèques requises"
   ]
  },
  {
   "cell_type": "code",
   "execution_count": 1,
   "id": "a8c373fb",
   "metadata": {},
   "outputs": [
    {
     "name": "stdout",
     "output_type": "stream",
     "text": [
      "Requirement already satisfied: transformers in /opt/anaconda3/lib/python3.8/site-packages (4.9.2)\n",
      "Requirement already satisfied: packaging in /opt/anaconda3/lib/python3.8/site-packages (from transformers) (20.9)\n",
      "Requirement already satisfied: regex!=2019.12.17 in /opt/anaconda3/lib/python3.8/site-packages (from transformers) (2021.4.4)\n",
      "Requirement already satisfied: requests in /opt/anaconda3/lib/python3.8/site-packages (from transformers) (2.25.1)\n",
      "Requirement already satisfied: tokenizers<0.11,>=0.10.1 in /opt/anaconda3/lib/python3.8/site-packages (from transformers) (0.10.3)\n",
      "Requirement already satisfied: huggingface-hub==0.0.12 in /opt/anaconda3/lib/python3.8/site-packages (from transformers) (0.0.12)\n",
      "Requirement already satisfied: sacremoses in /opt/anaconda3/lib/python3.8/site-packages (from transformers) (0.0.45)\n",
      "Requirement already satisfied: pyyaml>=5.1 in /opt/anaconda3/lib/python3.8/site-packages (from transformers) (5.4.1)\n",
      "Requirement already satisfied: numpy>=1.17 in /opt/anaconda3/lib/python3.8/site-packages (from transformers) (1.19.5)\n",
      "Requirement already satisfied: tqdm>=4.27 in /opt/anaconda3/lib/python3.8/site-packages (from transformers) (4.59.0)\n",
      "Requirement already satisfied: filelock in /opt/anaconda3/lib/python3.8/site-packages (from transformers) (3.0.12)\n",
      "Requirement already satisfied: typing-extensions in /opt/anaconda3/lib/python3.8/site-packages (from huggingface-hub==0.0.12->transformers) (3.7.4.3)\n",
      "Requirement already satisfied: pyparsing>=2.0.2 in /opt/anaconda3/lib/python3.8/site-packages (from packaging->transformers) (2.4.7)\n",
      "Requirement already satisfied: urllib3<1.27,>=1.21.1 in /opt/anaconda3/lib/python3.8/site-packages (from requests->transformers) (1.26.4)\n",
      "Requirement already satisfied: chardet<5,>=3.0.2 in /opt/anaconda3/lib/python3.8/site-packages (from requests->transformers) (4.0.0)\n",
      "Requirement already satisfied: certifi>=2017.4.17 in /opt/anaconda3/lib/python3.8/site-packages (from requests->transformers) (2020.12.5)\n",
      "Requirement already satisfied: idna<3,>=2.5 in /opt/anaconda3/lib/python3.8/site-packages (from requests->transformers) (2.10)\n",
      "Requirement already satisfied: click in /opt/anaconda3/lib/python3.8/site-packages (from sacremoses->transformers) (7.1.2)\n",
      "Requirement already satisfied: six in /opt/anaconda3/lib/python3.8/site-packages (from sacremoses->transformers) (1.15.0)\n",
      "Requirement already satisfied: joblib in /opt/anaconda3/lib/python3.8/site-packages (from sacremoses->transformers) (1.0.1)\n",
      "Requirement already satisfied: torch in /opt/anaconda3/lib/python3.8/site-packages (1.9.0)\n",
      "Requirement already satisfied: typing-extensions in /opt/anaconda3/lib/python3.8/site-packages (from torch) (3.7.4.3)\n",
      "Requirement already satisfied: simpletransformers in /opt/anaconda3/lib/python3.8/site-packages (0.61.13)\n",
      "Requirement already satisfied: streamlit in /opt/anaconda3/lib/python3.8/site-packages (from simpletransformers) (0.87.0)\n",
      "Requirement already satisfied: tokenizers in /opt/anaconda3/lib/python3.8/site-packages (from simpletransformers) (0.10.3)\n",
      "Requirement already satisfied: scipy in /opt/anaconda3/lib/python3.8/site-packages (from simpletransformers) (1.6.2)\n",
      "Requirement already satisfied: numpy in /opt/anaconda3/lib/python3.8/site-packages (from simpletransformers) (1.19.5)\n",
      "Requirement already satisfied: scikit-learn in /opt/anaconda3/lib/python3.8/site-packages (from simpletransformers) (0.24.1)\n",
      "Requirement already satisfied: pandas in /opt/anaconda3/lib/python3.8/site-packages (from simpletransformers) (1.2.4)\n",
      "Requirement already satisfied: tensorboardx in /opt/anaconda3/lib/python3.8/site-packages (from simpletransformers) (2.4)\n",
      "Requirement already satisfied: datasets in /opt/anaconda3/lib/python3.8/site-packages (from simpletransformers) (1.11.0)\n",
      "Requirement already satisfied: seqeval in /opt/anaconda3/lib/python3.8/site-packages (from simpletransformers) (1.2.2)\n",
      "Requirement already satisfied: sentencepiece in /opt/anaconda3/lib/python3.8/site-packages (from simpletransformers) (0.1.91)\n",
      "Requirement already satisfied: requests in /opt/anaconda3/lib/python3.8/site-packages (from simpletransformers) (2.25.1)\n",
      "Requirement already satisfied: transformers>=4.2.0 in /opt/anaconda3/lib/python3.8/site-packages (from simpletransformers) (4.9.2)\n",
      "Requirement already satisfied: regex in /opt/anaconda3/lib/python3.8/site-packages (from simpletransformers) (2021.4.4)\n",
      "Requirement already satisfied: tqdm>=4.47.0 in /opt/anaconda3/lib/python3.8/site-packages (from simpletransformers) (4.59.0)\n",
      "Requirement already satisfied: wandb>=0.10.32 in /opt/anaconda3/lib/python3.8/site-packages (from simpletransformers) (0.12.1)\n",
      "Requirement already satisfied: filelock in /opt/anaconda3/lib/python3.8/site-packages (from transformers>=4.2.0->simpletransformers) (3.0.12)\n",
      "Requirement already satisfied: pyyaml>=5.1 in /opt/anaconda3/lib/python3.8/site-packages (from transformers>=4.2.0->simpletransformers) (5.4.1)\n",
      "Requirement already satisfied: packaging in /opt/anaconda3/lib/python3.8/site-packages (from transformers>=4.2.0->simpletransformers) (20.9)\n",
      "Requirement already satisfied: sacremoses in /opt/anaconda3/lib/python3.8/site-packages (from transformers>=4.2.0->simpletransformers) (0.0.45)\n",
      "Requirement already satisfied: huggingface-hub==0.0.12 in /opt/anaconda3/lib/python3.8/site-packages (from transformers>=4.2.0->simpletransformers) (0.0.12)\n",
      "Requirement already satisfied: typing-extensions in /opt/anaconda3/lib/python3.8/site-packages (from huggingface-hub==0.0.12->transformers>=4.2.0->simpletransformers) (3.7.4.3)\n",
      "Requirement already satisfied: pyparsing>=2.0.2 in /opt/anaconda3/lib/python3.8/site-packages (from packaging->transformers>=4.2.0->simpletransformers) (2.4.7)\n",
      "Requirement already satisfied: subprocess32>=3.5.3 in /opt/anaconda3/lib/python3.8/site-packages (from wandb>=0.10.32->simpletransformers) (3.5.4)\n",
      "Requirement already satisfied: docker-pycreds>=0.4.0 in /opt/anaconda3/lib/python3.8/site-packages (from wandb>=0.10.32->simpletransformers) (0.4.0)\n",
      "Requirement already satisfied: six>=1.13.0 in /opt/anaconda3/lib/python3.8/site-packages (from wandb>=0.10.32->simpletransformers) (1.15.0)\n",
      "Requirement already satisfied: python-dateutil>=2.6.1 in /opt/anaconda3/lib/python3.8/site-packages (from wandb>=0.10.32->simpletransformers) (2.8.1)\n",
      "Requirement already satisfied: psutil>=5.0.0 in /opt/anaconda3/lib/python3.8/site-packages (from wandb>=0.10.32->simpletransformers) (5.8.0)\n",
      "Requirement already satisfied: pathtools in /opt/anaconda3/lib/python3.8/site-packages (from wandb>=0.10.32->simpletransformers) (0.1.2)\n",
      "Requirement already satisfied: shortuuid>=0.5.0 in /opt/anaconda3/lib/python3.8/site-packages (from wandb>=0.10.32->simpletransformers) (1.0.1)\n",
      "Requirement already satisfied: sentry-sdk>=1.0.0 in /opt/anaconda3/lib/python3.8/site-packages (from wandb>=0.10.32->simpletransformers) (1.3.1)\n",
      "Requirement already satisfied: configparser>=3.8.1 in /opt/anaconda3/lib/python3.8/site-packages (from wandb>=0.10.32->simpletransformers) (5.0.2)\n",
      "Requirement already satisfied: protobuf>=3.12.0 in /opt/anaconda3/lib/python3.8/site-packages (from wandb>=0.10.32->simpletransformers) (3.17.3)\n",
      "Requirement already satisfied: promise<3,>=2.0 in /opt/anaconda3/lib/python3.8/site-packages (from wandb>=0.10.32->simpletransformers) (2.3)\n",
      "Requirement already satisfied: GitPython>=1.0.0 in /opt/anaconda3/lib/python3.8/site-packages (from wandb>=0.10.32->simpletransformers) (3.1.18)\n",
      "Requirement already satisfied: Click!=8.0.0,>=7.0 in /opt/anaconda3/lib/python3.8/site-packages (from wandb>=0.10.32->simpletransformers) (7.1.2)\n",
      "Requirement already satisfied: gitdb<5,>=4.0.1 in /opt/anaconda3/lib/python3.8/site-packages (from GitPython>=1.0.0->wandb>=0.10.32->simpletransformers) (4.0.7)\n",
      "Requirement already satisfied: smmap<5,>=3.0.1 in /opt/anaconda3/lib/python3.8/site-packages (from gitdb<5,>=4.0.1->GitPython>=1.0.0->wandb>=0.10.32->simpletransformers) (4.0.0)\n",
      "Requirement already satisfied: urllib3<1.27,>=1.21.1 in /opt/anaconda3/lib/python3.8/site-packages (from requests->simpletransformers) (1.26.4)\n",
      "Requirement already satisfied: certifi>=2017.4.17 in /opt/anaconda3/lib/python3.8/site-packages (from requests->simpletransformers) (2020.12.5)\n",
      "Requirement already satisfied: chardet<5,>=3.0.2 in /opt/anaconda3/lib/python3.8/site-packages (from requests->simpletransformers) (4.0.0)\n",
      "Requirement already satisfied: idna<3,>=2.5 in /opt/anaconda3/lib/python3.8/site-packages (from requests->simpletransformers) (2.10)\n"
     ]
    },
    {
     "name": "stdout",
     "output_type": "stream",
     "text": [
      "Requirement already satisfied: xxhash in /opt/anaconda3/lib/python3.8/site-packages (from datasets->simpletransformers) (2.0.2)\n",
      "Requirement already satisfied: fsspec>=2021.05.0 in /opt/anaconda3/lib/python3.8/site-packages (from datasets->simpletransformers) (2021.7.0)\n",
      "Requirement already satisfied: pyarrow!=4.0.0,>=1.0.0 in /opt/anaconda3/lib/python3.8/site-packages (from datasets->simpletransformers) (5.0.0)\n",
      "Requirement already satisfied: dill in /opt/anaconda3/lib/python3.8/site-packages (from datasets->simpletransformers) (0.3.4)\n",
      "Requirement already satisfied: multiprocess in /opt/anaconda3/lib/python3.8/site-packages (from datasets->simpletransformers) (0.70.12.2)\n",
      "Requirement already satisfied: pytz>=2017.3 in /opt/anaconda3/lib/python3.8/site-packages (from pandas->simpletransformers) (2021.1)\n",
      "Requirement already satisfied: joblib in /opt/anaconda3/lib/python3.8/site-packages (from sacremoses->transformers>=4.2.0->simpletransformers) (1.0.1)\n",
      "Requirement already satisfied: threadpoolctl>=2.0.0 in /opt/anaconda3/lib/python3.8/site-packages (from scikit-learn->simpletransformers) (2.1.0)\n",
      "Requirement already satisfied: base58 in /opt/anaconda3/lib/python3.8/site-packages (from streamlit->simpletransformers) (2.1.0)\n",
      "Requirement already satisfied: cachetools>=4.0 in /opt/anaconda3/lib/python3.8/site-packages (from streamlit->simpletransformers) (4.2.2)\n",
      "Requirement already satisfied: attrs in /opt/anaconda3/lib/python3.8/site-packages (from streamlit->simpletransformers) (20.3.0)\n",
      "Requirement already satisfied: pydeck>=0.1.dev5 in /opt/anaconda3/lib/python3.8/site-packages (from streamlit->simpletransformers) (0.6.2)\n",
      "Requirement already satisfied: tzlocal in /opt/anaconda3/lib/python3.8/site-packages (from streamlit->simpletransformers) (3.0)\n",
      "Requirement already satisfied: pillow>=6.2.0 in /opt/anaconda3/lib/python3.8/site-packages (from streamlit->simpletransformers) (8.2.0)\n",
      "Requirement already satisfied: toml in /opt/anaconda3/lib/python3.8/site-packages (from streamlit->simpletransformers) (0.10.2)\n",
      "Requirement already satisfied: validators in /opt/anaconda3/lib/python3.8/site-packages (from streamlit->simpletransformers) (0.18.2)\n",
      "Requirement already satisfied: altair>=3.2.0 in /opt/anaconda3/lib/python3.8/site-packages (from streamlit->simpletransformers) (4.1.0)\n",
      "Requirement already satisfied: blinker in /opt/anaconda3/lib/python3.8/site-packages (from streamlit->simpletransformers) (1.4)\n",
      "Requirement already satisfied: astor in /opt/anaconda3/lib/python3.8/site-packages (from streamlit->simpletransformers) (0.8.1)\n",
      "Requirement already satisfied: tornado>=5.0 in /opt/anaconda3/lib/python3.8/site-packages (from streamlit->simpletransformers) (6.1)\n",
      "Requirement already satisfied: jsonschema in /opt/anaconda3/lib/python3.8/site-packages (from altair>=3.2.0->streamlit->simpletransformers) (3.2.0)\n",
      "Requirement already satisfied: jinja2 in /opt/anaconda3/lib/python3.8/site-packages (from altair>=3.2.0->streamlit->simpletransformers) (2.11.3)\n",
      "Requirement already satisfied: entrypoints in /opt/anaconda3/lib/python3.8/site-packages (from altair>=3.2.0->streamlit->simpletransformers) (0.3)\n",
      "Requirement already satisfied: toolz in /opt/anaconda3/lib/python3.8/site-packages (from altair>=3.2.0->streamlit->simpletransformers) (0.11.1)\n",
      "Requirement already satisfied: ipywidgets>=7.0.0 in /opt/anaconda3/lib/python3.8/site-packages (from pydeck>=0.1.dev5->streamlit->simpletransformers) (7.6.3)\n",
      "Requirement already satisfied: traitlets>=4.3.2 in /opt/anaconda3/lib/python3.8/site-packages (from pydeck>=0.1.dev5->streamlit->simpletransformers) (5.0.5)\n",
      "Requirement already satisfied: ipykernel>=5.1.2 in /opt/anaconda3/lib/python3.8/site-packages (from pydeck>=0.1.dev5->streamlit->simpletransformers) (5.3.4)\n",
      "Requirement already satisfied: appnope in /opt/anaconda3/lib/python3.8/site-packages (from ipykernel>=5.1.2->pydeck>=0.1.dev5->streamlit->simpletransformers) (0.1.2)\n",
      "Requirement already satisfied: jupyter-client in /opt/anaconda3/lib/python3.8/site-packages (from ipykernel>=5.1.2->pydeck>=0.1.dev5->streamlit->simpletransformers) (6.1.12)\n",
      "Requirement already satisfied: ipython>=5.0.0 in /opt/anaconda3/lib/python3.8/site-packages (from ipykernel>=5.1.2->pydeck>=0.1.dev5->streamlit->simpletransformers) (7.22.0)\n",
      "Requirement already satisfied: pygments in /opt/anaconda3/lib/python3.8/site-packages (from ipython>=5.0.0->ipykernel>=5.1.2->pydeck>=0.1.dev5->streamlit->simpletransformers) (2.8.1)\n",
      "Requirement already satisfied: pexpect>4.3 in /opt/anaconda3/lib/python3.8/site-packages (from ipython>=5.0.0->ipykernel>=5.1.2->pydeck>=0.1.dev5->streamlit->simpletransformers) (4.8.0)\n",
      "Requirement already satisfied: pickleshare in /opt/anaconda3/lib/python3.8/site-packages (from ipython>=5.0.0->ipykernel>=5.1.2->pydeck>=0.1.dev5->streamlit->simpletransformers) (0.7.5)\n",
      "Requirement already satisfied: prompt-toolkit!=3.0.0,!=3.0.1,<3.1.0,>=2.0.0 in /opt/anaconda3/lib/python3.8/site-packages (from ipython>=5.0.0->ipykernel>=5.1.2->pydeck>=0.1.dev5->streamlit->simpletransformers) (3.0.17)\n",
      "Requirement already satisfied: backcall in /opt/anaconda3/lib/python3.8/site-packages (from ipython>=5.0.0->ipykernel>=5.1.2->pydeck>=0.1.dev5->streamlit->simpletransformers) (0.2.0)\n",
      "Requirement already satisfied: decorator in /opt/anaconda3/lib/python3.8/site-packages (from ipython>=5.0.0->ipykernel>=5.1.2->pydeck>=0.1.dev5->streamlit->simpletransformers) (5.0.6)\n",
      "Requirement already satisfied: jedi>=0.16 in /opt/anaconda3/lib/python3.8/site-packages (from ipython>=5.0.0->ipykernel>=5.1.2->pydeck>=0.1.dev5->streamlit->simpletransformers) (0.17.2)\n",
      "Requirement already satisfied: setuptools>=18.5 in /opt/anaconda3/lib/python3.8/site-packages (from ipython>=5.0.0->ipykernel>=5.1.2->pydeck>=0.1.dev5->streamlit->simpletransformers) (52.0.0.post20210125)\n",
      "Requirement already satisfied: jupyterlab-widgets>=1.0.0 in /opt/anaconda3/lib/python3.8/site-packages (from ipywidgets>=7.0.0->pydeck>=0.1.dev5->streamlit->simpletransformers) (1.0.0)\n",
      "Requirement already satisfied: nbformat>=4.2.0 in /opt/anaconda3/lib/python3.8/site-packages (from ipywidgets>=7.0.0->pydeck>=0.1.dev5->streamlit->simpletransformers) (5.1.3)\n",
      "Requirement already satisfied: widgetsnbextension~=3.5.0 in /opt/anaconda3/lib/python3.8/site-packages (from ipywidgets>=7.0.0->pydeck>=0.1.dev5->streamlit->simpletransformers) (3.5.1)\n",
      "Requirement already satisfied: parso<0.8.0,>=0.7.0 in /opt/anaconda3/lib/python3.8/site-packages (from jedi>=0.16->ipython>=5.0.0->ipykernel>=5.1.2->pydeck>=0.1.dev5->streamlit->simpletransformers) (0.7.0)\n",
      "Requirement already satisfied: MarkupSafe>=0.23 in /opt/anaconda3/lib/python3.8/site-packages (from jinja2->altair>=3.2.0->streamlit->simpletransformers) (1.1.1)\n",
      "Requirement already satisfied: ipython-genutils in /opt/anaconda3/lib/python3.8/site-packages (from nbformat>=4.2.0->ipywidgets>=7.0.0->pydeck>=0.1.dev5->streamlit->simpletransformers) (0.2.0)\n",
      "Requirement already satisfied: jupyter-core in /opt/anaconda3/lib/python3.8/site-packages (from nbformat>=4.2.0->ipywidgets>=7.0.0->pydeck>=0.1.dev5->streamlit->simpletransformers) (4.7.1)\n",
      "Requirement already satisfied: pyrsistent>=0.14.0 in /opt/anaconda3/lib/python3.8/site-packages (from jsonschema->altair>=3.2.0->streamlit->simpletransformers) (0.17.3)\n",
      "Requirement already satisfied: ptyprocess>=0.5 in /opt/anaconda3/lib/python3.8/site-packages (from pexpect>4.3->ipython>=5.0.0->ipykernel>=5.1.2->pydeck>=0.1.dev5->streamlit->simpletransformers) (0.7.0)\n",
      "Requirement already satisfied: wcwidth in /opt/anaconda3/lib/python3.8/site-packages (from prompt-toolkit!=3.0.0,!=3.0.1,<3.1.0,>=2.0.0->ipython>=5.0.0->ipykernel>=5.1.2->pydeck>=0.1.dev5->streamlit->simpletransformers) (0.2.5)\n",
      "Requirement already satisfied: notebook>=4.4.1 in /opt/anaconda3/lib/python3.8/site-packages (from widgetsnbextension~=3.5.0->ipywidgets>=7.0.0->pydeck>=0.1.dev5->streamlit->simpletransformers) (6.3.0)\n",
      "Requirement already satisfied: terminado>=0.8.3 in /opt/anaconda3/lib/python3.8/site-packages (from notebook>=4.4.1->widgetsnbextension~=3.5.0->ipywidgets>=7.0.0->pydeck>=0.1.dev5->streamlit->simpletransformers) (0.9.4)\n",
      "Requirement already satisfied: nbconvert in /opt/anaconda3/lib/python3.8/site-packages (from notebook>=4.4.1->widgetsnbextension~=3.5.0->ipywidgets>=7.0.0->pydeck>=0.1.dev5->streamlit->simpletransformers) (6.0.7)\n",
      "Requirement already satisfied: pyzmq>=17 in /opt/anaconda3/lib/python3.8/site-packages (from notebook>=4.4.1->widgetsnbextension~=3.5.0->ipywidgets>=7.0.0->pydeck>=0.1.dev5->streamlit->simpletransformers) (20.0.0)\n",
      "Requirement already satisfied: prometheus-client in /opt/anaconda3/lib/python3.8/site-packages (from notebook>=4.4.1->widgetsnbextension~=3.5.0->ipywidgets>=7.0.0->pydeck>=0.1.dev5->streamlit->simpletransformers) (0.10.1)\n",
      "Requirement already satisfied: argon2-cffi in /opt/anaconda3/lib/python3.8/site-packages (from notebook>=4.4.1->widgetsnbextension~=3.5.0->ipywidgets>=7.0.0->pydeck>=0.1.dev5->streamlit->simpletransformers) (20.1.0)\n",
      "Requirement already satisfied: Send2Trash>=1.5.0 in /opt/anaconda3/lib/python3.8/site-packages (from notebook>=4.4.1->widgetsnbextension~=3.5.0->ipywidgets>=7.0.0->pydeck>=0.1.dev5->streamlit->simpletransformers) (1.5.0)\n"
     ]
    },
    {
     "name": "stdout",
     "output_type": "stream",
     "text": [
      "Requirement already satisfied: cffi>=1.0.0 in /opt/anaconda3/lib/python3.8/site-packages (from argon2-cffi->notebook>=4.4.1->widgetsnbextension~=3.5.0->ipywidgets>=7.0.0->pydeck>=0.1.dev5->streamlit->simpletransformers) (1.14.5)\n",
      "Requirement already satisfied: pycparser in /opt/anaconda3/lib/python3.8/site-packages (from cffi>=1.0.0->argon2-cffi->notebook>=4.4.1->widgetsnbextension~=3.5.0->ipywidgets>=7.0.0->pydeck>=0.1.dev5->streamlit->simpletransformers) (2.20)\n",
      "Requirement already satisfied: mistune<2,>=0.8.1 in /opt/anaconda3/lib/python3.8/site-packages (from nbconvert->notebook>=4.4.1->widgetsnbextension~=3.5.0->ipywidgets>=7.0.0->pydeck>=0.1.dev5->streamlit->simpletransformers) (0.8.4)\n",
      "Requirement already satisfied: testpath in /opt/anaconda3/lib/python3.8/site-packages (from nbconvert->notebook>=4.4.1->widgetsnbextension~=3.5.0->ipywidgets>=7.0.0->pydeck>=0.1.dev5->streamlit->simpletransformers) (0.4.4)\n",
      "Requirement already satisfied: nbclient<0.6.0,>=0.5.0 in /opt/anaconda3/lib/python3.8/site-packages (from nbconvert->notebook>=4.4.1->widgetsnbextension~=3.5.0->ipywidgets>=7.0.0->pydeck>=0.1.dev5->streamlit->simpletransformers) (0.5.3)\n",
      "Requirement already satisfied: defusedxml in /opt/anaconda3/lib/python3.8/site-packages (from nbconvert->notebook>=4.4.1->widgetsnbextension~=3.5.0->ipywidgets>=7.0.0->pydeck>=0.1.dev5->streamlit->simpletransformers) (0.7.1)\n",
      "Requirement already satisfied: pandocfilters>=1.4.1 in /opt/anaconda3/lib/python3.8/site-packages (from nbconvert->notebook>=4.4.1->widgetsnbextension~=3.5.0->ipywidgets>=7.0.0->pydeck>=0.1.dev5->streamlit->simpletransformers) (1.4.3)\n",
      "Requirement already satisfied: bleach in /opt/anaconda3/lib/python3.8/site-packages (from nbconvert->notebook>=4.4.1->widgetsnbextension~=3.5.0->ipywidgets>=7.0.0->pydeck>=0.1.dev5->streamlit->simpletransformers) (3.3.0)\n",
      "Requirement already satisfied: jupyterlab-pygments in /opt/anaconda3/lib/python3.8/site-packages (from nbconvert->notebook>=4.4.1->widgetsnbextension~=3.5.0->ipywidgets>=7.0.0->pydeck>=0.1.dev5->streamlit->simpletransformers) (0.1.2)\n",
      "Requirement already satisfied: async-generator in /opt/anaconda3/lib/python3.8/site-packages (from nbclient<0.6.0,>=0.5.0->nbconvert->notebook>=4.4.1->widgetsnbextension~=3.5.0->ipywidgets>=7.0.0->pydeck>=0.1.dev5->streamlit->simpletransformers) (1.10)\n",
      "Requirement already satisfied: nest-asyncio in /opt/anaconda3/lib/python3.8/site-packages (from nbclient<0.6.0,>=0.5.0->nbconvert->notebook>=4.4.1->widgetsnbextension~=3.5.0->ipywidgets>=7.0.0->pydeck>=0.1.dev5->streamlit->simpletransformers) (1.5.1)\n",
      "Requirement already satisfied: webencodings in /opt/anaconda3/lib/python3.8/site-packages (from bleach->nbconvert->notebook>=4.4.1->widgetsnbextension~=3.5.0->ipywidgets>=7.0.0->pydeck>=0.1.dev5->streamlit->simpletransformers) (0.5.1)\n",
      "Requirement already satisfied: backports.zoneinfo in /opt/anaconda3/lib/python3.8/site-packages (from tzlocal->streamlit->simpletransformers) (0.2.1)\n",
      "Requirement already satisfied: tensorflow in /opt/anaconda3/lib/python3.8/site-packages (2.6.0)\n",
      "Requirement already satisfied: opt-einsum~=3.3.0 in /opt/anaconda3/lib/python3.8/site-packages (from tensorflow) (3.3.0)\n",
      "Requirement already satisfied: keras-preprocessing~=1.1.2 in /opt/anaconda3/lib/python3.8/site-packages (from tensorflow) (1.1.2)\n",
      "Requirement already satisfied: wheel~=0.35 in /opt/anaconda3/lib/python3.8/site-packages (from tensorflow) (0.36.2)\n",
      "Requirement already satisfied: wrapt~=1.12.1 in /opt/anaconda3/lib/python3.8/site-packages (from tensorflow) (1.12.1)\n",
      "Requirement already satisfied: astunparse~=1.6.3 in /opt/anaconda3/lib/python3.8/site-packages (from tensorflow) (1.6.3)\n",
      "Requirement already satisfied: typing-extensions~=3.7.4 in /opt/anaconda3/lib/python3.8/site-packages (from tensorflow) (3.7.4.3)\n",
      "Requirement already satisfied: absl-py~=0.10 in /opt/anaconda3/lib/python3.8/site-packages (from tensorflow) (0.13.0)\n",
      "Requirement already satisfied: h5py~=3.1.0 in /opt/anaconda3/lib/python3.8/site-packages (from tensorflow) (3.1.0)\n",
      "Requirement already satisfied: tensorboard~=2.6 in /opt/anaconda3/lib/python3.8/site-packages (from tensorflow) (2.6.0)\n",
      "Requirement already satisfied: google-pasta~=0.2 in /opt/anaconda3/lib/python3.8/site-packages (from tensorflow) (0.2.0)\n",
      "Requirement already satisfied: termcolor~=1.1.0 in /opt/anaconda3/lib/python3.8/site-packages (from tensorflow) (1.1.0)\n",
      "Requirement already satisfied: six~=1.15.0 in /opt/anaconda3/lib/python3.8/site-packages (from tensorflow) (1.15.0)\n",
      "Requirement already satisfied: gast==0.4.0 in /opt/anaconda3/lib/python3.8/site-packages (from tensorflow) (0.4.0)\n",
      "Requirement already satisfied: clang~=5.0 in /opt/anaconda3/lib/python3.8/site-packages (from tensorflow) (5.0)\n",
      "Requirement already satisfied: protobuf>=3.9.2 in /opt/anaconda3/lib/python3.8/site-packages (from tensorflow) (3.17.3)\n",
      "Requirement already satisfied: flatbuffers~=1.12.0 in /opt/anaconda3/lib/python3.8/site-packages (from tensorflow) (1.12)\n",
      "Requirement already satisfied: numpy~=1.19.2 in /opt/anaconda3/lib/python3.8/site-packages (from tensorflow) (1.19.5)\n",
      "Requirement already satisfied: keras~=2.6 in /opt/anaconda3/lib/python3.8/site-packages (from tensorflow) (2.6.0)\n",
      "Requirement already satisfied: tensorflow-estimator~=2.6 in /opt/anaconda3/lib/python3.8/site-packages (from tensorflow) (2.6.0)\n",
      "Requirement already satisfied: grpcio<2.0,>=1.37.0 in /opt/anaconda3/lib/python3.8/site-packages (from tensorflow) (1.39.0)\n",
      "Requirement already satisfied: google-auth-oauthlib<0.5,>=0.4.1 in /opt/anaconda3/lib/python3.8/site-packages (from tensorboard~=2.6->tensorflow) (0.4.5)\n",
      "Requirement already satisfied: tensorboard-plugin-wit>=1.6.0 in /opt/anaconda3/lib/python3.8/site-packages (from tensorboard~=2.6->tensorflow) (1.8.0)\n",
      "Requirement already satisfied: tensorboard-data-server<0.7.0,>=0.6.0 in /opt/anaconda3/lib/python3.8/site-packages (from tensorboard~=2.6->tensorflow) (0.6.1)\n",
      "Requirement already satisfied: markdown>=2.6.8 in /opt/anaconda3/lib/python3.8/site-packages (from tensorboard~=2.6->tensorflow) (3.3.4)\n",
      "Requirement already satisfied: werkzeug>=0.11.15 in /opt/anaconda3/lib/python3.8/site-packages (from tensorboard~=2.6->tensorflow) (1.0.1)\n",
      "Requirement already satisfied: google-auth<2,>=1.6.3 in /opt/anaconda3/lib/python3.8/site-packages (from tensorboard~=2.6->tensorflow) (1.35.0)\n",
      "Requirement already satisfied: setuptools>=41.0.0 in /opt/anaconda3/lib/python3.8/site-packages (from tensorboard~=2.6->tensorflow) (52.0.0.post20210125)\n",
      "Requirement already satisfied: requests<3,>=2.21.0 in /opt/anaconda3/lib/python3.8/site-packages (from tensorboard~=2.6->tensorflow) (2.25.1)\n",
      "Requirement already satisfied: cachetools<5.0,>=2.0.0 in /opt/anaconda3/lib/python3.8/site-packages (from google-auth<2,>=1.6.3->tensorboard~=2.6->tensorflow) (4.2.2)\n",
      "Requirement already satisfied: pyasn1-modules>=0.2.1 in /opt/anaconda3/lib/python3.8/site-packages (from google-auth<2,>=1.6.3->tensorboard~=2.6->tensorflow) (0.2.8)\n",
      "Requirement already satisfied: rsa<5,>=3.1.4 in /opt/anaconda3/lib/python3.8/site-packages (from google-auth<2,>=1.6.3->tensorboard~=2.6->tensorflow) (4.7.2)\n",
      "Requirement already satisfied: requests-oauthlib>=0.7.0 in /opt/anaconda3/lib/python3.8/site-packages (from google-auth-oauthlib<0.5,>=0.4.1->tensorboard~=2.6->tensorflow) (1.3.0)\n",
      "Requirement already satisfied: pyasn1<0.5.0,>=0.4.6 in /opt/anaconda3/lib/python3.8/site-packages (from pyasn1-modules>=0.2.1->google-auth<2,>=1.6.3->tensorboard~=2.6->tensorflow) (0.4.8)\n",
      "Requirement already satisfied: chardet<5,>=3.0.2 in /opt/anaconda3/lib/python3.8/site-packages (from requests<3,>=2.21.0->tensorboard~=2.6->tensorflow) (4.0.0)\n",
      "Requirement already satisfied: certifi>=2017.4.17 in /opt/anaconda3/lib/python3.8/site-packages (from requests<3,>=2.21.0->tensorboard~=2.6->tensorflow) (2020.12.5)\n",
      "Requirement already satisfied: urllib3<1.27,>=1.21.1 in /opt/anaconda3/lib/python3.8/site-packages (from requests<3,>=2.21.0->tensorboard~=2.6->tensorflow) (1.26.4)\n",
      "Requirement already satisfied: idna<3,>=2.5 in /opt/anaconda3/lib/python3.8/site-packages (from requests<3,>=2.21.0->tensorboard~=2.6->tensorflow) (2.10)\n",
      "Requirement already satisfied: oauthlib>=3.0.0 in /opt/anaconda3/lib/python3.8/site-packages (from requests-oauthlib>=0.7.0->google-auth-oauthlib<0.5,>=0.4.1->tensorboard~=2.6->tensorflow) (3.1.1)\n"
     ]
    }
   ],
   "source": [
    "!pip install transformers \n",
    "!pip install torch \n",
    "!pip install simpletransformers\n",
    "!pip install tensorflow\n",
    "!pip install html2text --quiet"
   ]
  },
  {
   "cell_type": "markdown",
   "id": "1a766dd6",
   "metadata": {
    "scrolled": true
   },
   "source": [
    "## Étape 2 : Importation des packages requis"
   ]
  },
  {
   "cell_type": "code",
   "execution_count": 2,
   "id": "355e805b",
   "metadata": {},
   "outputs": [
    {
     "name": "stderr",
     "output_type": "stream",
     "text": [
      "/opt/anaconda3/lib/python3.8/site-packages/IPython/html.py:12: ShimWarning: The `IPython.html` package has been deprecated since IPython 4.0. You should import from `notebook` instead. `IPython.html.widgets` has moved to `ipywidgets`.\n",
      "  warn(\"The `IPython.html` package has been deprecated since IPython 4.0. \"\n"
     ]
    }
   ],
   "source": [
    "from transformers import BertForQuestionAnswering\n",
    "from transformers import BertTokenizer\n",
    "import torch\n",
    "import numpy as np\n",
    "from IPython.display import display\n",
    "import html2text \n",
    "from IPython.html import widgets\n"
   ]
  },
  {
   "cell_type": "markdown",
   "id": "e7c0e42c",
   "metadata": {},
   "source": [
    "\n",
    "\n",
    "## Étape 3 : Charger le modèle Bert pré-entraîné"
   ]
  },
  {
   "cell_type": "code",
   "execution_count": 3,
   "id": "b93ceaa9",
   "metadata": {
    "scrolled": true
   },
   "outputs": [
    {
     "data": {
      "application/vnd.jupyter.widget-view+json": {
       "model_id": "2dea3f811ace422481e1d462ec04fa80",
       "version_major": 2,
       "version_minor": 0
      },
      "text/plain": [
       "Downloading:   0%|          | 0.00/443 [00:00<?, ?B/s]"
      ]
     },
     "metadata": {},
     "output_type": "display_data"
    },
    {
     "data": {
      "application/vnd.jupyter.widget-view+json": {
       "model_id": "9afde5c820d94af188ee9d5f3e55caf1",
       "version_major": 2,
       "version_minor": 0
      },
      "text/plain": [
       "Downloading:   0%|          | 0.00/1.34G [00:00<?, ?B/s]"
      ]
     },
     "metadata": {},
     "output_type": "display_data"
    }
   ],
   "source": [
    "#,force_download=True\n",
    "\n",
    "model = BertForQuestionAnswering.from_pretrained('bert-large-uncased-whole-word-masking-finetuned-squad',force_download=True)\n",
    "\n",
    "tokenizer_for_bert = BertTokenizer.from_pretrained('bert-large-uncased-whole-word-masking-finetuned-squad')"
   ]
  },
  {
   "cell_type": "markdown",
   "id": "c90bf621",
   "metadata": {},
   "source": [
    "## Étape 4 : Définir la fonction pour la réponse aux questions"
   ]
  },
  {
   "cell_type": "code",
   "execution_count": 10,
   "id": "2dce14c0",
   "metadata": {},
   "outputs": [
    {
     "data": {
      "text/plain": [
       "(31, 34, 1.59, 1.43, 'ig tech team')"
      ]
     },
     "execution_count": 10,
     "metadata": {},
     "output_type": "execute_result"
    }
   ],
   "source": [
    "def bert_question_answer(question, contexte, max_len=512):\n",
    "    \n",
    "    #\"\"\"\n",
    "    #question: What is the name of YouTube Channel\n",
    "    #context: Watch complete playlist of Natural Language Processing. Don't forget to like, share and subscribe my channel IG Tech Team\n",
    "    #\"\"\"\n",
    "\n",
    "    #Tokenize question d'entrée et text\n",
    "    #Ajouter des Tokens spéciaux - [CLS] et [SEP]\n",
    "        \n",
    "    input_ids = tokenizer_for_bert.encode (question, contexte,  max_length= max_len, truncation=True)  \n",
    "  \n",
    "    #Obtenir le nombre de tokens dans la 1ère phrase (question) et la 2ème phrase (text qui contient la réponse)\n",
    "    \n",
    "    sep_index = input_ids.index(102) \n",
    "    len_question = sep_index + 1   \n",
    "    len_passage = len(input_ids)- len_question  \n",
    "    \n",
    "    #Besoin de séparer question et text\n",
    "     #Les identifiants de segment seront 0 pour la question et 1 pour le text\n",
    "        \n",
    "    segment_ids =  [0]*len_question + [1]*(len_passage)  \n",
    "\n",
    "    #Conversion des identifiants de jetons en jetons\n",
    "    \n",
    "    tokens = tokenizer_for_bert.convert_ids_to_tokens(input_ids) \n",
    "   \n",
    "    #Obtenir les scores de début et de fin pour la réponse\n",
    "    #Conversion des tableaux d'entrée en tenseurs de torche avant de passer au modèle\n",
    "        \n",
    "    start_token_scores = model(torch.tensor([input_ids]), token_type_ids=torch.tensor([segment_ids]) )[0]\n",
    "    end_token_scores = model(torch.tensor([input_ids]), token_type_ids=torch.tensor([segment_ids]) )[1]\n",
    "    \n",
    "    #Conversion des tenseurs de scores en tableaux numpy\n",
    "    \n",
    "    start_token_scores = start_token_scores.detach().numpy().flatten()\n",
    "    end_token_scores = end_token_scores.detach().numpy().flatten()\n",
    "        \n",
    "   #Obtenir un index de réponse de début et de fin basé sur les scores les plus élevés\n",
    "\n",
    "    answer_start_index = np.argmax(start_token_scores)\n",
    "    answer_end_index = np.argmax(end_token_scores)\n",
    "\n",
    "    #Obtenir des scores pour le jeton de début et de fin de la réponse\n",
    "    \n",
    "    start_token_score = np.round(start_token_scores[answer_start_index], 2)\n",
    "    end_token_score = np.round(end_token_scores[answer_end_index], 2)\n",
    "\n",
    "    #Combiner les sous-mots commençant par ## et obtenir des mots complets en sortie.\n",
    "     #C'est parce que le tokenizer casse des mots qui ne sont pas dans son vocabulaire.\n",
    "        \n",
    "    answer = tokens[answer_start_index] \n",
    "    for i in range(answer_start_index + 1, answer_end_index + 1):\n",
    "        if tokens[i][0:2] == '##':  \n",
    "            answer += tokens[i][2:] \n",
    "        else:\n",
    "            answer += ' ' + tokens[i]  \n",
    "\n",
    "   # Si la réponse n'a pas été trouvée dans le passage\n",
    "\n",
    "    if ( answer_start_index == 0) or (start_token_score < 0 ) or  (answer == '[SEP]') or ( answer_end_index <  answer_start_index):\n",
    "        answer = \"Sorry!, I could not find an answer in the contexte.\"\n",
    "    \n",
    "    return (answer_start_index, answer_end_index, start_token_score, end_token_score,  answer)\n",
    "\n",
    "# Tester la Fonction\n",
    "\n",
    "bert_question_answer(\"What is the name of YouTube Channel\", \"Watch complete playlist of Natural Language Processing. Don't forget to like, share and subscribe my channel IG Tech Team \")"
   ]
  },
  {
   "cell_type": "markdown",
   "id": "97b14156",
   "metadata": {},
   "source": [
    "\n",
    "\n",
    "## Utilisons un autre passage et vérifions la sortie\n",
    "\n",
    "   ### Question answering en Anglais \n",
    "   \n",
    "   "
   ]
  },
  {
   "cell_type": "code",
   "execution_count": 5,
   "id": "20eef61e",
   "metadata": {},
   "outputs": [
    {
     "name": "stdout",
     "output_type": "stream",
     "text": [
      "Length of the context: 51 words\n",
      "\n",
      "Question 1:\n",
      " What is my name?\n",
      "\n",
      "Answer from BERT:  daniel \n",
      "\n",
      "\n",
      "Question 2:\n",
      " Who is the father of Ajay?\n",
      "\n",
      "Answer from BERT:  kristen \n",
      "\n",
      "\n",
      "Question 3:\n",
      " With whom Ishwar spend most of the time?\n",
      "\n",
      "Answer from BERT:  ajay \n",
      "\n"
     ]
    }
   ],
   "source": [
    "# Let me define one passage\n",
    "contexte = \"\"\"Hello, I am Daniel. My friend name is Ajay. He is the son of Kristen. I spend most of the time with Ajay. \n",
    "He always call me by my nick name. Ajay call me programmer. Except Ajay, my other friend call me by my original name. \n",
    "Bijay is also my friend. \"\"\"\n",
    "\n",
    "print (f'Length of the context: {len(contexte.split())} words')\n",
    "\n",
    "question1 =\"What is my name?\" \n",
    "print ('\\nQuestion 1:\\n', question1)\n",
    "_, _ , _ , _, ans  = bert_question_answer( question1, contexte)\n",
    "print('\\nAnswer from BERT: ', ans ,  '\\n')\n",
    "\n",
    "\n",
    "question2 =\"Who is the father of Ajay?\"\n",
    "print ('\\nQuestion 2:\\n', question2)\n",
    "_, _ , _ , _, ans  = bert_question_answer( question2, contexte)\n",
    "print('\\nAnswer from BERT: ', ans ,  '\\n')\n",
    "\n",
    "question3 =\"With whom Ishwar spend most of the time?\" \n",
    "print ('\\nQuestion 3:\\n', question3)\n",
    "_, _ , _ , _, ans  = bert_question_answer( question3, contexte)\n",
    "print('\\nAnswer from BERT: ', ans ,  '\\n')"
   ]
  },
  {
   "cell_type": "markdown",
   "id": "ecc83414",
   "metadata": {},
   "source": [
    "   ## Question answering en Français \n",
    "   \n",
    "   \n"
   ]
  },
  {
   "cell_type": "code",
   "execution_count": 6,
   "id": "44989571",
   "metadata": {},
   "outputs": [
    {
     "name": "stdout",
     "output_type": "stream",
     "text": [
      "Longueur du contexte: 363 mots\n",
      "\n",
      "Question 1:\n",
      " Quelle est la forme complète de NLTK ?\n",
      "\n",
      "Answer from BERT:  un plate - forme leader pour la creation de programmes python pour travailler avec des donnees de langage humain \n",
      "\n",
      "\n",
      "Question 2:\n",
      " Qu'est-ce que la NLP ?\n",
      "\n",
      "Answer from BERT:  un sous - domaine de l ' informatique et de l ' intelligence artificielle qui s ' interesse aux interactions entre ordinateurs et langages humains ( naturels ) \n",
      "\n",
      "\n",
      "Question 3:\n",
      " Qu'est-ce que l'apprentissage supervisé ?\n",
      "\n",
      "Answer from BERT:  il est utilise pour appliquer des algorithmes d ' apprentissage automatique au texte et a la parole \n",
      "\n"
     ]
    }
   ],
   "source": [
    "# Let me define another passage\n",
    "contexte= \"\"\" La NLP est un sous-domaine de l'informatique et de l'intelligence artificielle qui s'intéresse aux interactions entre\n",
    "ordinateurs et langages humains (naturels). Il est utilisé pour appliquer des algorithmes d'apprentissage automatique au texte et à \n",
    "la parole. Pour Par exemple, nous pouvons utiliser la NLP pour créer des systèmes tels que la reconnaissance vocale, la synthèse de \n",
    "documents, la traduction automatique, le spam détection, reconnaissance d'entité nommée, réponse aux questions, saisie semi-automatique, \n",
    "saisie prédictive, etc. De nos jours, la plupart des nous avons des smartphones dotés de la reconnaissance vocale. Ces smartphones utilisent\n",
    "la NLP pour comprendre ce qui se dit. Aussi, beaucoup les gens utilisent des ordinateurs portables dont le système d'exploitation a une \n",
    "reconnaissance vocale intégrée. NLTK (Natural Language Toolkit) est un plate-forme leader pour la création de programmes Python pour travailler \n",
    "avec des données de langage humain. Il fournit des interfaces faciles à utiliser à de nombreux corpus et ressources lexicales. En outre, \n",
    "il contient une suite de bibliothèques de traitement de texte pour la classification, tokenisation, stemming, tagging, parsing et raisonnement\n",
    "sémantique. Mieux encore, NLTK est un logiciel libre et open source, projet communautaire. Nous utiliserons cette boîte à outils pour montrer \n",
    "quelques bases du domaine du traitement du langage naturel. Pour\n",
    "les exemples ci-dessous, je suppose que nous avons importé la boîte à outils NLTK. Nous pouvons faire ceci comme ceci : import nltk.\n",
    "La tokenisation de la phrase (également appelée segmentation de la phrase) est le problème de diviser une chaîne de langage écrit en\n",
    "ses phrases composantes. L'idée ici semble très simple. Tokenisation de mots (également appelée segmentation de mots)\n",
    "est le problème de diviser une chaîne de langage écrit en ses mots composants. En anglais et dans de nombreuses autres langues\n",
    "en utilisant une certaine forme d'alphabet latin, l'espace est une bonne approximation d'un séparateur de mots. Cependant, nous pouvons encore avoir des problèmes\n",
    "nous ne divisons que par espace pour obtenir les résultats souhaités. Certains noms composés anglais sont écrits de manière variable et parfois\n",
    "ils contiennent un espace. Dans la plupart des cas, nous utilisons une bibliothèque pour obtenir les résultats souhaités, donc encore une fois ne vous inquiétez pas trop\n",
    "pour les détails.\"\"\"\n",
    "\n",
    "print (f'Longueur du contexte: {len(contexte.split())} mots')\n",
    "\n",
    "\n",
    "question =\"Quelle est la forme complète de NLTK ?\"\n",
    "print ('\\nQuestion 1:\\n', question)\n",
    "_, _ , _ , _, ans  = bert_question_answer( question, contexte)\n",
    "print('\\nAnswer from BERT: ', ans ,  '\\n')\n",
    "\n",
    "question =\"Qu'est-ce que la NLP ?\"\n",
    "print ('\\nQuestion 2:\\n', question)\n",
    "_, _ , _ , _, ans  = bert_question_answer( question, contexte)\n",
    "print('\\nAnswer from BERT: ', ans ,  '\\n')\n",
    "\n",
    "question =\"Qu'est-ce que l'apprentissage supervisé ?\"\n",
    "print ('\\nQuestion 3:\\n', question)\n",
    "_, _ , _ , _, ans  = bert_question_answer( question, contexte)\n",
    "print('\\nAnswer from BERT: ', ans ,  '\\n')\n"
   ]
  },
  {
   "cell_type": "markdown",
   "id": "d7497d05",
   "metadata": {},
   "source": [
    "\n",
    "## Question answering en DRIJA¶\n"
   ]
  },
  {
   "cell_type": "code",
   "execution_count": 11,
   "id": "61d08fbd",
   "metadata": {},
   "outputs": [
    {
     "name": "stdout",
     "output_type": "stream",
     "text": [
      "tul almamari: 17 kalimat\n",
      "\n",
      "Question 1:\n",
      " ma hi althaqafat almaghribiatu ?\n",
      "\n",
      "Answer from BERT:  mazij min alearab walbarbar al ' asliiyn wa ' afriqia janub alsahra ' i \n",
      "\n"
     ]
    }
   ],
   "source": [
    "# Let me define another passage\n",
    "contexte = \"\"\"\n",
    "          althaqafat almaghribiat hi mazij min alearab walbarbar \n",
    "          al'asliiyn wa'afriqia janub alsahra'i. allughat alrasmiat \n",
    "          lilmaghrib hi alearabiat wal'amazighiatu.\"\"\"\n",
    "\n",
    "print (f'tul almamari: {len(contexte.split())} kalimat')\n",
    "\n",
    "question =\"ma hi althaqafat almaghribiatu ?\"\n",
    "print ('\\nQuestion 1:\\n', question)\n",
    "_, _ , _ , _, ans  = bert_question_answer( question, contexte)\n",
    "print('\\nAnswer from BERT: ', ans ,  '\\n')\n"
   ]
  },
  {
   "cell_type": "markdown",
   "id": "70f4339f",
   "metadata": {},
   "source": [
    "## Question answering en Arabe"
   ]
  },
  {
   "cell_type": "code",
   "execution_count": 12,
   "id": "6771ea15",
   "metadata": {},
   "outputs": [
    {
     "name": "stdout",
     "output_type": "stream",
     "text": [
      "طول الممر: 17 كلمات\n",
      "\n",
      "Question 1:\n",
      " ما هي الثقافة المغربية؟\n",
      "\n",
      "Answer from BERT:  هي مزيج من العرب والبربر الاصليين وافريقيا جنوب الصحراء والتاثيرات الاوروبية \n",
      "\n"
     ]
    }
   ],
   "source": [
    "print (f'طول الممر: {len(contexte.split())} كلمات')\n",
    "\n",
    "question= \"ما هي الثقافة المغربية؟\"\n",
    "\n",
    "contexte = \"\"\" \n",
    "الثقافة المغربية هي مزيج من العرب والبربر الأصليين وإفريقيا جنوب الصحراء والتأثيرات الأوروبية.\"\"\" \n",
    "\n",
    "print ('\\nQuestion 1:\\n', question)\n",
    "_, _ , _ , _, ans  = bert_question_answer( question, contexte)\n",
    "print('\\nAnswer from BERT: ', ans ,  '\\n')"
   ]
  },
  {
   "cell_type": "markdown",
   "id": "ad13b660",
   "metadata": {},
   "source": [
    "\n",
    "# Petit application de Question-Answering \n"
   ]
  },
  {
   "cell_type": "code",
   "execution_count": 15,
   "id": "7e03bf14",
   "metadata": {},
   "outputs": [
    {
     "data": {
      "application/vnd.jupyter.widget-view+json": {
       "model_id": "7766777d79704b7d922cc7f8e4d3763f",
       "version_major": 2,
       "version_minor": 0
      },
      "text/plain": [
       "HTML(value='<h1>Question-Answering app</h1>')"
      ]
     },
     "metadata": {},
     "output_type": "display_data"
    },
    {
     "data": {
      "application/vnd.jupyter.widget-view+json": {
       "model_id": "cde97432600b47d6bcdac1f9a975d4e7",
       "version_major": 2,
       "version_minor": 0
      },
      "text/plain": [
       "HTML(value='<h4>CONTEXTE : </h4>')"
      ]
     },
     "metadata": {},
     "output_type": "display_data"
    },
    {
     "data": {
      "application/vnd.jupyter.widget-view+json": {
       "model_id": "acf8491743e642f0b9af4f4dd07f273b",
       "version_major": 2,
       "version_minor": 0
      },
      "text/plain": [
       "Textarea(value=' \\n                            ', placeholder='Paste your text here')"
      ]
     },
     "metadata": {},
     "output_type": "display_data"
    },
    {
     "data": {
      "application/vnd.jupyter.widget-view+json": {
       "model_id": "de76d17e320549eb841529df6a23f3e4",
       "version_major": 2,
       "version_minor": 0
      },
      "text/plain": [
       "HTML(value='<h4>QUESTION : </h4>')"
      ]
     },
     "metadata": {},
     "output_type": "display_data"
    },
    {
     "data": {
      "application/vnd.jupyter.widget-view+json": {
       "model_id": "3ead4cbc4ea34107ab4f90eb1437a8b9",
       "version_major": 2,
       "version_minor": 0
      },
      "text/plain": [
       "Text(value=' ', placeholder='Saissiez votre question')"
      ]
     },
     "metadata": {},
     "output_type": "display_data"
    },
    {
     "data": {
      "application/vnd.jupyter.widget-view+json": {
       "model_id": "4f41a2813d7b4d0b9a2e0c97d1fe02b2",
       "version_major": 2,
       "version_minor": 0
      },
      "text/plain": [
       "Button(button_style='primary', description='Get an answer', style=ButtonStyle())"
      ]
     },
     "metadata": {},
     "output_type": "display_data"
    },
    {
     "name": "stdout",
     "output_type": "stream",
     "text": [
      "\n",
      "QUESTION :\n",
      "  Qu'est-ce que Question Answer ?\n",
      "\n",
      " ANSWER FROM BERT:  une discipline informatique \n",
      "\n"
     ]
    }
   ],
   "source": [
    "instructions =  widgets.HTML(\"<h1>Question-Answering app</h1>\")\n",
    "display(instructions)\n",
    "\n",
    "instructions3 =  widgets.HTML(\"<h4>CONTEXTE : </h4>\")\n",
    "display(instructions3)\n",
    "\n",
    "contexte = widgets.Textarea(\n",
    "                            value=\"\"\" \n",
    "                            \"\"\",\n",
    "                            placeholder='Paste your text here',\n",
    "                            disablad=False)\n",
    "display(contexte)\n",
    "\n",
    "instructions2 =  widgets.HTML(\"<h4>QUESTION : </h4>\")\n",
    "display(instructions2)\n",
    "\n",
    "question =  widgets.Text(value=\" \",placeholder=\"Saissiez votre question\",disablad=False)\n",
    "display(question)\n",
    "\n",
    "button = widgets.Button(description ='Get an answer', \n",
    "                        button_style='primary')\n",
    "display(button)\n",
    "\n",
    "\n",
    "def on_button_click(b):\n",
    "    \n",
    "    print('\\nQUESTION :\\n', question.value)\n",
    "    _, _ , _ , _, ans  = bert_question_answer( question.value, contexte.value)\n",
    "    \n",
    "    print('\\n ANSWER FROM BERT: ',ans , '\\n')\n",
    "    \n",
    "button.on_click(on_button_click)"
   ]
  },
  {
   "cell_type": "code",
   "execution_count": null,
   "id": "a32f021e",
   "metadata": {},
   "outputs": [],
   "source": []
  }
 ],
 "metadata": {
  "kernelspec": {
   "display_name": "Python 3",
   "language": "python",
   "name": "python3"
  },
  "language_info": {
   "codemirror_mode": {
    "name": "ipython",
    "version": 3
   },
   "file_extension": ".py",
   "mimetype": "text/x-python",
   "name": "python",
   "nbconvert_exporter": "python",
   "pygments_lexer": "ipython3",
   "version": "3.8.8"
  }
 },
 "nbformat": 4,
 "nbformat_minor": 5
}
